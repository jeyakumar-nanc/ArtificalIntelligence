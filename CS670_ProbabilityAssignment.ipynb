{
  "nbformat": 4,
  "nbformat_minor": 0,
  "metadata": {
    "colab": {
      "name": "CS670-ProbabilityAssignment.ipynb",
      "provenance": [],
      "collapsed_sections": [],
      "authorship_tag": "ABX9TyOk5exzwWqqNZxDKVGHuopZ",
      "include_colab_link": true
    },
    "kernelspec": {
      "name": "python3",
      "display_name": "Python 3"
    },
    "language_info": {
      "name": "python"
    }
  },
  "cells": [
    {
      "cell_type": "markdown",
      "metadata": {
        "id": "view-in-github",
        "colab_type": "text"
      },
      "source": [
        "<a href=\"https://colab.research.google.com/github/jeyakumar-nanc/ArtificalIntelligence/blob/main/CS670_ProbabilityAssignment.ipynb\" target=\"_parent\"><img src=\"https://colab.research.google.com/assets/colab-badge.svg\" alt=\"Open In Colab\"/></a>"
      ]
    },
    {
      "cell_type": "code",
      "source": [
        "import numpy as np\n",
        "import matplotlib.pyplot as plt\n",
        "import scipy.stats as stats\n",
        "from seaborn.palettes import color_palette"
      ],
      "metadata": {
        "id": "Ku-bWA9I0YWA"
      },
      "execution_count": 74,
      "outputs": []
    },
    {
      "cell_type": "markdown",
      "source": [
        "**Problem 1a: (10 Points)**\n",
        "\n",
        "The heights of adult men in the United States are approximately normally distributed with a mean of 70 inches and a standard deviation of 3 inches. Heights of adult women are approximately normally distributed with a mean of 64.5 inches and a standard deviation of 2.5 inches.\n",
        "\n",
        "Graph the two distributions from 0 to 100 inches using the plotting framework of your choice ( Matplotlib, Seaborn etc.)"
      ],
      "metadata": {
        "id": "9PAavel907tF"
      }
    },
    {
      "cell_type": "code",
      "execution_count": 75,
      "metadata": {
        "colab": {
          "base_uri": "https://localhost:8080/",
          "height": 298
        },
        "id": "_vVwOxIozlRQ",
        "outputId": "287b6106-1a6c-4113-8302-cab846c6f195"
      },
      "outputs": [
        {
          "output_type": "execute_result",
          "data": {
            "text/plain": [
              "Text(0.5, 1.0, 'Normal Distribution of Adult men and women')"
            ]
          },
          "metadata": {},
          "execution_count": 75
        },
        {
          "output_type": "display_data",
          "data": {
            "text/plain": [
              "<Figure size 432x288 with 1 Axes>"
            ],
            "image/png": "[encoded data removed]"
          },
          "metadata": {
            "needs_background": "light"
          }
        }
      ],
      "source": [
        "n = np.arange(0, 100)\n",
        "norm = stats.norm.pdf(n, loc=70, scale=3)\n",
        "plt.plot(n, norm,label='Male: μ - 70, σ - 3')\n",
        "norm = stats.norm.pdf(n, loc=64.5, scale=2.5)\n",
        "plt.plot(n, norm,label='Female: μ - 64.5, σ - 2.5')\n",
        "plt.legend()\n",
        "plt.title(\"Normal Distribution of Adult men and women\")"
      ]
    },
    {
      "cell_type": "markdown",
      "source": [
        "**Problem 1b: (10 Points)**\n",
        "\n",
        "What is the probability that a female is between the heights of 65 inches and 70 inches? What is the probability that a female is between the heights of 65 inches and 70 inches given that they are at least 60 inches tall ( You can use 100 as the upper limit of the distribution )?\n",
        "\n",
        "(Hint: This is a probability assignment, not a calculus assignment. You do not need to calculate any integrals, just show the steps that you would take and the final result)"
      ],
      "metadata": {
        "id": "rZO5Zm2Q1eqf"
      }
    },
    {
      "cell_type": "markdown",
      "source": [
        "Using Z-score to compute probability.. Z = X - mean / std dev\n",
        "\n",
        "\n",
        "at X= 65 , Z = 65 - 64.5 / 2.5 = 0.2\n",
        "at X= 70 , Z = 70 - 64.5 / 2.5 = 2.2\n",
        "\n",
        "P(65 < X < 70 ) = P (0.2 < Z < 2.2) => 0.9861 - 0.5793 => 0.4068\n"
      ],
      "metadata": {
        "id": "94ScUqo23bKf"
      }
    },
    {
      "cell_type": "code",
      "source": [
        "print(\"Probability that a female is between the heights of 65 inches and 70 inches is  40.68%\")"
      ],
      "metadata": {
        "id": "CcRS6pEG1dlQ",
        "colab": {
          "base_uri": "https://localhost:8080/"
        },
        "outputId": "0a863297-4468-4a32-ebd2-774fb55974b1"
      },
      "execution_count": 76,
      "outputs": [
        {
          "output_type": "stream",
          "name": "stdout",
          "text": [
            "Probability that a female is between the heights of 65 inches and 70 inches is  40.68%\n"
          ]
        }
      ]
    },
    {
      "cell_type": "markdown",
      "source": [
        "at X= 65 , Z = 65 - 64.5 / 2.5 = 0.2\n",
        "at X= 70 , Z = 70 - 64.5 / 2.5 = 2.2\n",
        "at X= 60 , Z = 60 - 64.5 / 2.5 = -1.8\n",
        "\n",
        "P(X > 60  = 1 - P(X <= 60) => 1 - 0.0359 = 0.9641\n",
        "\n",
        "P(65 < X < 70 | X > 60 ) = 0.4068 / 0.9641 = 0.4219"
      ],
      "metadata": {
        "id": "p5IuKiXc3N0o"
      }
    },
    {
      "cell_type": "code",
      "source": [
        "print(\"Probability that a female is between the heights of 65 inches and 70, give that they are at least 60 inches tall inches is  42.19%\")"
      ],
      "metadata": {
        "colab": {
          "base_uri": "https://localhost:8080/"
        },
        "id": "nB7CYkC45l5C",
        "outputId": "4a502acf-0a78-4806-b97a-64443b638e7b"
      },
      "execution_count": 77,
      "outputs": [
        {
          "output_type": "stream",
          "name": "stdout",
          "text": [
            "Probability that a female is between the heights of 65 inches and 70, give that they are at least 60 inches tall inches is  42.19%\n"
          ]
        }
      ]
    },
    {
      "cell_type": "markdown",
      "source": [
        "**Problem 1c: (20 Points)**\n",
        "\n",
        "Lets say you conduct an experiment with a 100 trials where you measure a random man's height. Lets say the measurement that you take is always rounded down to an integer\n",
        "\n",
        "( ie. both a person with a height of 75.2 inches and a person of height 75.8 inches would be recorded as 75 inches thus making the distribution a discrete distribution instead of continuous).\n",
        "\n",
        "What do you expect the count of men with a height of 70 inches to be? What type of distribution do you expect it to be?\n",
        "\n",
        "( You do not need to answer these questions, it is simply something to think about to aid you with the next part )\n",
        "\n",
        "Calculate the probability distribution function of the \"counts\" of people out of 100 with a height of 70 inches.\n",
        "\n",
        "( Hint: You will have to find the categorical probability that a man is of height 70 )\n",
        "\n",
        "Simulate the experiment 1000 times to show the relationship on a plot. What is the relationship between number of times the experiment is run and how close it is to the true distribution\n",
        "\n",
        "( Hint: numpy has many functions that can allow you to simulate distribution functions )"
      ],
      "metadata": {
        "id": "ka2KUXfp50TA"
      }
    },
    {
      "cell_type": "code",
      "source": [
        "n = 100\n",
        "x = [*range(1,1000+1)]\n",
        "y=[]\n",
        "for n in x:\n",
        "  result = np.random.multinomial(100,[1/100.]*100,size=1)  \n",
        "  y.append(result[0][69]/n)  \n",
        "\n",
        "\n",
        "fig = plt.figure(figsize=(10,7))\n",
        "ax=fig.add_subplot(111)\n",
        "ax.plot(x,y)\n",
        "ax.set_xlabel(\"trials\")\n",
        "ax.set_ylabel('probability')\n",
        "ax.set_title('probability for counts of height 70 with 1000 trials')"
      ],
      "metadata": {
        "colab": {
          "base_uri": "https://localhost:8080/",
          "height": 475
        },
        "id": "I2s6BuE6Tj1V",
        "outputId": "a2dad632-9402-4ffb-a761-e811a7e9a009"
      },
      "execution_count": 78,
      "outputs": [
        {
          "output_type": "execute_result",
          "data": {
            "text/plain": [
              "Text(0.5, 1.0, 'probability for counts of height 70 with 1000 trials')"
            ]
          },
          "metadata": {},
          "execution_count": 78
        },
        {
          "output_type": "display_data",
          "data": {
            "text/plain": [
              "<Figure size 720x504 with 1 Axes>"
            ],
            "image/png": "[encoded data removed]"
          },
          "metadata": {
            "needs_background": "light"
          }
        }
      ]
    },
    {
      "cell_type": "markdown",
      "source": [
        "**Problem 2a: (15 Points)**\n",
        "Given the circuit below, the probability that any switch  is closed (current passes through ) is ? What is the probability that there is a signal at the output? Give your answer in terms of \n",
        "\n",
        "\n",
        "**Answer:**\n",
        "\n",
        "![image.png](data:image/png;base64,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)"
      ],
      "metadata": {
        "id": "AzF-aowboV09"
      }
    },
    {
      "cell_type": "markdown",
      "source": [
        "**Problem 2b: (15 Points)**\n",
        "Given the same circuit above, if a signal is observed at the end, what is the probability that  is open ( no current going through ) . Give your answer in terms of.\n",
        "\n",
        "\n",
        "**Answer:**\n",
        "\n",
        "![image.png](data:image/png;base64,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)"
      ],
      "metadata": {
        "id": "ZhQqVDriomzh"
      }
    },
    {
      "cell_type": "markdown",
      "source": [
        "**Problem 3a (20 points)**\n",
        "It follows that those with a larger height will be generally heavier than those with a smaller height. This is just a broad generalization and does not always apply. Here is a link to a data set that contains anonymous entries on peoples’ gender, height and weight. Download this dataset ( It is pretty small don’t worry ). You might need to make a Kaggle account. Kaggle is an online community of data scientists and has a large collection of open source datasets for many different purposes.\n",
        "\n",
        "Familiarize yourself with the package pandas, as you can use it to easily unpack the csv into manipulatable datatypes. If you are using colab, which you most likely are, ensure that you have logged in with the university Google account.\n",
        "\n",
        "Using the data find two values for covariance between height and weight. There should be one value for male and female."
      ],
      "metadata": {
        "id": "-lrM6fyRKozg"
      }
    },
    {
      "cell_type": "code",
      "source": [
        "import pandas as pd"
      ],
      "metadata": {
        "id": "JRARvZVBOaR4"
      },
      "execution_count": 85,
      "outputs": []
    },
    {
      "cell_type": "code",
      "source": [
        "df = pd.read_csv('/content/sample_data/weight-height.csv')\n",
        "df.head()"
      ],
      "metadata": {
        "colab": {
          "base_uri": "https://localhost:8080/",
          "height": 206
        },
        "id": "rTJXLBhOKsFK",
        "outputId": "9857f8b3-96b5-47c7-8225-84e6ca064ee2"
      },
      "execution_count": 86,
      "outputs": [
        {
          "output_type": "execute_result",
          "data": {
            "text/plain": [
              "  Gender     Height      Weight\n",
              "0   Male  73.847017  241.893563\n",
              "1   Male  68.781904  162.310473\n",
              "2   Male  74.110105  212.740856\n",
              "3   Male  71.730978  220.042470\n",
              "4   Male  69.881796  206.349801"
            ],
            "text/html": [
              "\n",
              "  <div id=\"df-49636787-7417-480e-b7ad-084032308416\">\n",
              "    <div class=\"colab-df-container\">\n",
              "      <div>\n",
              "<style scoped>\n",
              "    .dataframe tbody tr th:only-of-type {\n",
              "        vertical-align: middle;\n",
              "    }\n",
              "\n",
              "    .dataframe tbody tr th {\n",
              "        vertical-align: top;\n",
              "    }\n",
              "\n",
              "    .dataframe thead th {\n",
              "        text-align: right;\n",
              "    }\n",
              "</style>\n",
              "<table border=\"1\" class=\"dataframe\">\n",
              "  <thead>\n",
              "    <tr style=\"text-align: right;\">\n",
              "      <th></th>\n",
              "      <th>Gender</th>\n",
              "      <th>Height</th>\n",
              "      <th>Weight</th>\n",
              "    </tr>\n",
              "  </thead>\n",
              "  <tbody>\n",
              "    <tr>\n",
              "      <th>0</th>\n",
              "      <td>Male</td>\n",
              "      <td>73.847017</td>\n",
              "      <td>241.893563</td>\n",
              "    </tr>\n",
              "    <tr>\n",
              "      <th>1</th>\n",
              "      <td>Male</td>\n",
              "      <td>68.781904</td>\n",
              "      <td>162.310473</td>\n",
              "    </tr>\n",
              "    <tr>\n",
              "      <th>2</th>\n",
              "      <td>Male</td>\n",
              "      <td>74.110105</td>\n",
              "      <td>212.740856</td>\n",
              "    </tr>\n",
              "    <tr>\n",
              "      <th>3</th>\n",
              "      <td>Male</td>\n",
              "      <td>71.730978</td>\n",
              "      <td>220.042470</td>\n",
              "    </tr>\n",
              "    <tr>\n",
              "      <th>4</th>\n",
              "      <td>Male</td>\n",
              "      <td>69.881796</td>\n",
              "      <td>206.349801</td>\n",
              "    </tr>\n",
              "  </tbody>\n",
              "</table>\n",
              "</div>\n",
              "      <button class=\"colab-df-convert\" onclick=\"convertToInteractive('df-49636787-7417-480e-b7ad-084032308416')\"\n",
              "              title=\"Convert this dataframe to an interactive table.\"\n",
              "              style=\"display:none;\">\n",
              "        \n",
              "  <svg xmlns=\"http://www.w3.org/2000/svg\" height=\"24px\"viewBox=\"0 0 24 24\"\n",
              "       width=\"24px\">\n",
              "    <path d=\"M0 0h24v24H0V0z\" fill=\"none\"/>\n",
              "    <path d=\"M18.56 5.44l.94 2.06.94-2.06 2.06-.94-2.06-.94-.94-2.06-.94 2.06-2.06.94zm-11 1L8.5 8.5l.94-2.06 2.06-.94-2.06-.94L8.5 2.5l-.94 2.06-2.06.94zm10 10l.94 2.06.94-2.06 2.06-.94-2.06-.94-.94-2.06-.94 2.06-2.06.94z\"/><path d=\"M17.41 7.96l-1.37-1.37c-.4-.4-.92-.59-1.43-.59-.52 0-1.04.2-1.43.59L10.3 9.45l-7.72 7.72c-.78.78-.78 2.05 0 2.83L4 21.41c.39.39.9.59 1.41.59.51 0 1.02-.2 1.41-.59l7.78-7.78 2.81-2.81c.8-.78.8-2.07 0-2.86zM5.41 20L4 18.59l7.72-7.72 1.47 1.35L5.41 20z\"/>\n",
              "  </svg>\n",
              "      </button>\n",
              "      \n",
              "  <style>\n",
              "    .colab-df-container {\n",
              "      display:flex;\n",
              "      flex-wrap:wrap;\n",
              "      gap: 12px;\n",
              "    }\n",
              "\n",
              "    .colab-df-convert {\n",
              "      background-color: #E8F0FE;\n",
              "      border: none;\n",
              "      border-radius: 50%;\n",
              "      cursor: pointer;\n",
              "      display: none;\n",
              "      fill: #1967D2;\n",
              "      height: 32px;\n",
              "      padding: 0 0 0 0;\n",
              "      width: 32px;\n",
              "    }\n",
              "\n",
              "    .colab-df-convert:hover {\n",
              "      background-color: #E2EBFA;\n",
              "      box-shadow: 0px 1px 2px rgba(60, 64, 67, 0.3), 0px 1px 3px 1px rgba(60, 64, 67, 0.15);\n",
              "      fill: #174EA6;\n",
              "    }\n",
              "\n",
              "    [theme=dark] .colab-df-convert {\n",
              "      background-color: #3B4455;\n",
              "      fill: #D2E3FC;\n",
              "    }\n",
              "\n",
              "    [theme=dark] .colab-df-convert:hover {\n",
              "      background-color: #434B5C;\n",
              "      box-shadow: 0px 1px 3px 1px rgba(0, 0, 0, 0.15);\n",
              "      filter: drop-shadow(0px 1px 2px rgba(0, 0, 0, 0.3));\n",
              "      fill: #FFFFFF;\n",
              "    }\n",
              "  </style>\n",
              "\n",
              "      <script>\n",
              "        const buttonEl =\n",
              "          document.querySelector('#df-49636787-7417-480e-b7ad-084032308416 button.colab-df-convert');\n",
              "        buttonEl.style.display =\n",
              "          google.colab.kernel.accessAllowed ? 'block' : 'none';\n",
              "\n",
              "        async function convertToInteractive(key) {\n",
              "          const element = document.querySelector('#df-49636787-7417-480e-b7ad-084032308416');\n",
              "          const dataTable =\n",
              "            await google.colab.kernel.invokeFunction('convertToInteractive',\n",
              "                                                     [key], {});\n",
              "          if (!dataTable) return;\n",
              "\n",
              "          const docLinkHtml = 'Like what you see? Visit the ' +\n",
              "            '<a target=\"_blank\" href=https://colab.research.google.com/notebooks/data_table.ipynb>data table notebook</a>'\n",
              "            + ' to learn more about interactive tables.';\n",
              "          element.innerHTML = '';\n",
              "          dataTable['output_type'] = 'display_data';\n",
              "          await google.colab.output.renderOutput(dataTable, element);\n",
              "          const docLink = document.createElement('div');\n",
              "          docLink.innerHTML = docLinkHtml;\n",
              "          element.appendChild(docLink);\n",
              "        }\n",
              "      </script>\n",
              "    </div>\n",
              "  </div>\n",
              "  "
            ]
          },
          "metadata": {},
          "execution_count": 86
        }
      ]
    },
    {
      "cell_type": "code",
      "source": [
        "df.describe()"
      ],
      "metadata": {
        "colab": {
          "base_uri": "https://localhost:8080/",
          "height": 300
        },
        "id": "SA-ujJ0hLWEl",
        "outputId": "01af5cf6-ce3a-4bea-ed88-af0dccba4b60"
      },
      "execution_count": 87,
      "outputs": [
        {
          "output_type": "execute_result",
          "data": {
            "text/plain": [
              "             Height        Weight\n",
              "count  10000.000000  10000.000000\n",
              "mean      66.367560    161.440357\n",
              "std        3.847528     32.108439\n",
              "min       54.263133     64.700127\n",
              "25%       63.505620    135.818051\n",
              "50%       66.318070    161.212928\n",
              "75%       69.174262    187.169525\n",
              "max       78.998742    269.989699"
            ],
            "text/html": [
              "\n",
              "  <div id=\"df-02edfc37-0bde-4a12-856e-9c6d9e6873fe\">\n",
              "    <div class=\"colab-df-container\">\n",
              "      <div>\n",
              "<style scoped>\n",
              "    .dataframe tbody tr th:only-of-type {\n",
              "        vertical-align: middle;\n",
              "    }\n",
              "\n",
              "    .dataframe tbody tr th {\n",
              "        vertical-align: top;\n",
              "    }\n",
              "\n",
              "    .dataframe thead th {\n",
              "        text-align: right;\n",
              "    }\n",
              "</style>\n",
              "<table border=\"1\" class=\"dataframe\">\n",
              "  <thead>\n",
              "    <tr style=\"text-align: right;\">\n",
              "      <th></th>\n",
              "      <th>Height</th>\n",
              "      <th>Weight</th>\n",
              "    </tr>\n",
              "  </thead>\n",
              "  <tbody>\n",
              "    <tr>\n",
              "      <th>count</th>\n",
              "      <td>10000.000000</td>\n",
              "      <td>10000.000000</td>\n",
              "    </tr>\n",
              "    <tr>\n",
              "      <th>mean</th>\n",
              "      <td>66.367560</td>\n",
              "      <td>161.440357</td>\n",
              "    </tr>\n",
              "    <tr>\n",
              "      <th>std</th>\n",
              "      <td>3.847528</td>\n",
              "      <td>32.108439</td>\n",
              "    </tr>\n",
              "    <tr>\n",
              "      <th>min</th>\n",
              "      <td>54.263133</td>\n",
              "      <td>64.700127</td>\n",
              "    </tr>\n",
              "    <tr>\n",
              "      <th>25%</th>\n",
              "      <td>63.505620</td>\n",
              "      <td>135.818051</td>\n",
              "    </tr>\n",
              "    <tr>\n",
              "      <th>50%</th>\n",
              "      <td>66.318070</td>\n",
              "      <td>161.212928</td>\n",
              "    </tr>\n",
              "    <tr>\n",
              "      <th>75%</th>\n",
              "      <td>69.174262</td>\n",
              "      <td>187.169525</td>\n",
              "    </tr>\n",
              "    <tr>\n",
              "      <th>max</th>\n",
              "      <td>78.998742</td>\n",
              "      <td>269.989699</td>\n",
              "    </tr>\n",
              "  </tbody>\n",
              "</table>\n",
              "</div>\n",
              "      <button class=\"colab-df-convert\" onclick=\"convertToInteractive('df-02edfc37-0bde-4a12-856e-9c6d9e6873fe')\"\n",
              "              title=\"Convert this dataframe to an interactive table.\"\n",
              "              style=\"display:none;\">\n",
              "        \n",
              "  <svg xmlns=\"http://www.w3.org/2000/svg\" height=\"24px\"viewBox=\"0 0 24 24\"\n",
              "       width=\"24px\">\n",
              "    <path d=\"M0 0h24v24H0V0z\" fill=\"none\"/>\n",
              "    <path d=\"M18.56 5.44l.94 2.06.94-2.06 2.06-.94-2.06-.94-.94-2.06-.94 2.06-2.06.94zm-11 1L8.5 8.5l.94-2.06 2.06-.94-2.06-.94L8.5 2.5l-.94 2.06-2.06.94zm10 10l.94 2.06.94-2.06 2.06-.94-2.06-.94-.94-2.06-.94 2.06-2.06.94z\"/><path d=\"M17.41 7.96l-1.37-1.37c-.4-.4-.92-.59-1.43-.59-.52 0-1.04.2-1.43.59L10.3 9.45l-7.72 7.72c-.78.78-.78 2.05 0 2.83L4 21.41c.39.39.9.59 1.41.59.51 0 1.02-.2 1.41-.59l7.78-7.78 2.81-2.81c.8-.78.8-2.07 0-2.86zM5.41 20L4 18.59l7.72-7.72 1.47 1.35L5.41 20z\"/>\n",
              "  </svg>\n",
              "      </button>\n",
              "      \n",
              "  <style>\n",
              "    .colab-df-container {\n",
              "      display:flex;\n",
              "      flex-wrap:wrap;\n",
              "      gap: 12px;\n",
              "    }\n",
              "\n",
              "    .colab-df-convert {\n",
              "      background-color: #E8F0FE;\n",
              "      border: none;\n",
              "      border-radius: 50%;\n",
              "      cursor: pointer;\n",
              "      display: none;\n",
              "      fill: #1967D2;\n",
              "      height: 32px;\n",
              "      padding: 0 0 0 0;\n",
              "      width: 32px;\n",
              "    }\n",
              "\n",
              "    .colab-df-convert:hover {\n",
              "      background-color: #E2EBFA;\n",
              "      box-shadow: 0px 1px 2px rgba(60, 64, 67, 0.3), 0px 1px 3px 1px rgba(60, 64, 67, 0.15);\n",
              "      fill: #174EA6;\n",
              "    }\n",
              "\n",
              "    [theme=dark] .colab-df-convert {\n",
              "      background-color: #3B4455;\n",
              "      fill: #D2E3FC;\n",
              "    }\n",
              "\n",
              "    [theme=dark] .colab-df-convert:hover {\n",
              "      background-color: #434B5C;\n",
              "      box-shadow: 0px 1px 3px 1px rgba(0, 0, 0, 0.15);\n",
              "      filter: drop-shadow(0px 1px 2px rgba(0, 0, 0, 0.3));\n",
              "      fill: #FFFFFF;\n",
              "    }\n",
              "  </style>\n",
              "\n",
              "      <script>\n",
              "        const buttonEl =\n",
              "          document.querySelector('#df-02edfc37-0bde-4a12-856e-9c6d9e6873fe button.colab-df-convert');\n",
              "        buttonEl.style.display =\n",
              "          google.colab.kernel.accessAllowed ? 'block' : 'none';\n",
              "\n",
              "        async function convertToInteractive(key) {\n",
              "          const element = document.querySelector('#df-02edfc37-0bde-4a12-856e-9c6d9e6873fe');\n",
              "          const dataTable =\n",
              "            await google.colab.kernel.invokeFunction('convertToInteractive',\n",
              "                                                     [key], {});\n",
              "          if (!dataTable) return;\n",
              "\n",
              "          const docLinkHtml = 'Like what you see? Visit the ' +\n",
              "            '<a target=\"_blank\" href=https://colab.research.google.com/notebooks/data_table.ipynb>data table notebook</a>'\n",
              "            + ' to learn more about interactive tables.';\n",
              "          element.innerHTML = '';\n",
              "          dataTable['output_type'] = 'display_data';\n",
              "          await google.colab.output.renderOutput(dataTable, element);\n",
              "          const docLink = document.createElement('div');\n",
              "          docLink.innerHTML = docLinkHtml;\n",
              "          element.appendChild(docLink);\n",
              "        }\n",
              "      </script>\n",
              "    </div>\n",
              "  </div>\n",
              "  "
            ]
          },
          "metadata": {},
          "execution_count": 87
        }
      ]
    },
    {
      "cell_type": "code",
      "source": [
        "def cov(X, Y):\n",
        "    x_mean = np.mean(X)\n",
        "    y_mean = np.mean(Y)\n",
        "    cov_xy = np.mean((X-x_mean)*(Y-y_mean))\n",
        "    return cov_xy"
      ],
      "metadata": {
        "id": "pksTbWkrLY9Y"
      },
      "execution_count": 88,
      "outputs": []
    },
    {
      "cell_type": "code",
      "source": [
        "print(\"Covariance for male: \", cov(df[df['Gender']=='Male']['Height'], df[df['Gender']=='Male']['Weight']))"
      ],
      "metadata": {
        "colab": {
          "base_uri": "https://localhost:8080/"
        },
        "id": "_X2tjT8HLc0S",
        "outputId": "177863b4-0b1a-4281-ba5c-5fa8c3bb5c6d"
      },
      "execution_count": 89,
      "outputs": [
        {
          "output_type": "stream",
          "name": "stdout",
          "text": [
            "Covariance for male:  48.86987306199798\n"
          ]
        }
      ]
    },
    {
      "cell_type": "code",
      "source": [
        "print(\"Covariance for female: \", cov(df[df['Gender']=='Female']['Height'], df[df['Gender']=='Female']['Weight']))"
      ],
      "metadata": {
        "colab": {
          "base_uri": "https://localhost:8080/"
        },
        "id": "RSJ4JVWCLi-p",
        "outputId": "833b04c2-af96-400e-d1bd-8d287caa9fa5"
      },
      "execution_count": 90,
      "outputs": [
        {
          "output_type": "stream",
          "name": "stdout",
          "text": [
            "Covariance for female:  43.567688883770344\n"
          ]
        }
      ]
    },
    {
      "cell_type": "markdown",
      "source": [
        "**Problem 3b: (10 points)**\n",
        "Find the correlation between height and weight for Males and Females"
      ],
      "metadata": {
        "id": "I2gtYGYiKjNn"
      }
    },
    {
      "cell_type": "code",
      "source": [
        "def corr(X, Y):\n",
        "    x_mean = np.mean(X)\n",
        "    y_mean = np.mean(Y)\n",
        "    x_var = np.mean((X-x_mean)**2)\n",
        "    y_var = np.mean((Y-y_mean)**2)\n",
        "    corr_xy = cov(X, Y) / x_var**0.5 / y_var**0.5\n",
        "    return corr_xy"
      ],
      "metadata": {
        "id": "CU58ED_6LlI4"
      },
      "execution_count": 91,
      "outputs": []
    },
    {
      "cell_type": "code",
      "source": [
        "print(\"Correlation for male: \", corr(df[df['Gender']=='Male']['Height'], df[df['Gender']=='Male']['Weight']))"
      ],
      "metadata": {
        "colab": {
          "base_uri": "https://localhost:8080/"
        },
        "id": "gaFmi3eULs8b",
        "outputId": "a0c7ab13-80f7-48dc-e242-12b73c2214b1"
      },
      "execution_count": 92,
      "outputs": [
        {
          "output_type": "stream",
          "name": "stdout",
          "text": [
            "Correlation for male:  0.8629788486163136\n"
          ]
        }
      ]
    },
    {
      "cell_type": "code",
      "source": [
        "print(\"Correlation for female: \", corr(df[df['Gender']=='Female']['Height'], df[df['Gender']=='Female']['Weight']))"
      ],
      "metadata": {
        "colab": {
          "base_uri": "https://localhost:8080/"
        },
        "id": "tKFO42EOLvSI",
        "outputId": "83605dcd-e36b-46cd-c65a-4fbce353087a"
      },
      "execution_count": 93,
      "outputs": [
        {
          "output_type": "stream",
          "name": "stdout",
          "text": [
            "Correlation for female:  0.849608591418601\n"
          ]
        }
      ]
    },
    {
      "cell_type": "markdown",
      "source": [
        "**Extra credit: (5 points)**\n",
        "Using matplotlib’s or seaborn’s 3D graphing functionality, create a wireframe graph of the multivariate probability distribution of heights and weights for either men or women ( You don’t have to do both ). Use the data and calculated values from problem 3 to solve this problem."
      ],
      "metadata": {
        "id": "EaX67LNdLybY"
      }
    },
    {
      "cell_type": "code",
      "source": [
        "from mpl_toolkits import mplot3d\n",
        "import numpy as np\n",
        "import matplotlib.pyplot as plt\n",
        "from scipy.stats import multivariate_normal\n",
        "\n",
        "\n",
        "_mean = [df[df['Gender']=='Male'][\"Height\"].mean(), df[df['Gender']=='Male'][\"Weight\"].mean()]\n",
        "\n",
        "_cov = df.loc[df['Gender']=='Male'].cov()\n",
        "\n",
        "X, Y = np.meshgrid(df[df['Gender']=='Male']['Height'], df[df['Gender']=='Male']['Weight'])\n",
        "\n",
        "Z = multivariate_normal(mean=_mean,cov=_cov)\n",
        "\n",
        "fig = plt.figure()\n",
        "pdf = np.zeros(X.shape)\n",
        "for i in range(X.shape[0]):\n",
        "  for j in range(X.shape[1]):\n",
        "    pdf[i,j] = Z.pdf([X[i,j], Y[i,j]])\n",
        "ax = plt.axes(projection ='3d')\n",
        "ax.plot_wireframe(X, Y, pdf, color ='green')\n",
        "ax.set_xlabel('Height')\n",
        "ax.set_ylabel('Weight')\n",
        "ax.set_zlabel('PDF')\n",
        "ax.set_title('Wireframe plot of Gaussian');\n"
      ],
      "metadata": {
        "colab": {
          "base_uri": "https://localhost:8080/",
          "height": 248
        },
        "id": "nyYTurKOLtch",
        "outputId": "dac9f982-9a86-4b63-bfef-c2d6285c1f9b"
      },
      "execution_count": 95,
      "outputs": [
        {
          "output_type": "display_data",
          "data": {
            "text/plain": [
              "<Figure size 432x288 with 1 Axes>"
            ],
            "image/png": "[encoded data removed]"
          },
          "metadata": {
            "needs_background": "light"
          }
        }
      ]
    }
  ]
}